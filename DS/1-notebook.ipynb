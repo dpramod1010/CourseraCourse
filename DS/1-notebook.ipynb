{
 "cells": [
  {
   "cell_type": "markdown",
   "id": "5b720b30",
   "metadata": {},
   "source": [
    "2-title.png\n",
    "Introduction"
   ]
  },
  {
   "cell_type": "markdown",
   "id": "a0fbb008",
   "metadata": {},
   "source": [
    "# Calculate Sum"
   ]
  },
  {
   "cell_type": "markdown",
   "id": "d65cfa16",
   "metadata": {},
   "source": [
    "Some Of the popular languages that Data Science use Are:\n",
    "    1.Python\n",
    "    2.R\n",
    "    3.SQL\n",
    "    4.Scala\n",
    "    5.Java\n",
    "    6.C++\n",
    "    7. Php\n",
    "    8.Ruby"
   ]
  },
  {
   "cell_type": "markdown",
   "id": "31f7a33d",
   "metadata": {},
   "source": [
    "Some of the Commonly Used Libraries used by Data Science:\n",
    "    .Numpy\n",
    "    \n",
    "    . pandas\n",
    "    \n",
    "    .Seaborn\n",
    "    \n",
    "    .Scikit-learn\n",
    "    \n",
    "    .keras\n",
    "    \n",
    "    TensorFlow\n",
    "    \n",
    "    .Vegas"
   ]
  },
  {
   "cell_type": "markdown",
   "id": "663a8ed3",
   "metadata": {},
   "source": [
    "# Data Science Tools:"
   ]
  },
  {
   "cell_type": "markdown",
   "id": "7a0b95d0",
   "metadata": {},
   "source": [
    "Anaconda\n",
    "\n",
    "Jupyter Notebook\n",
    "\n",
    "R Studio\n",
    "\n",
    "Spyder\n",
    "\n",
    "Zeppelin"
   ]
  },
  {
   "cell_type": "code",
   "execution_count": null,
   "id": "d05a4918",
   "metadata": {},
   "outputs": [],
   "source": []
  },
  {
   "cell_type": "code",
   "execution_count": null,
   "id": "1cbc139c",
   "metadata": {},
   "outputs": [],
   "source": []
  },
  {
   "cell_type": "code",
   "execution_count": 7,
   "id": "b78af8c0",
   "metadata": {},
   "outputs": [
    {
     "name": "stdout",
     "output_type": "stream",
     "text": [
      "Enter First Value> 10\n",
      "Enter First Value> 10\n",
      "10\n",
      "10\n",
      "Total Sum is:- 20\n"
     ]
    }
   ],
   "source": [
    "x=int(input(\"Enter First Value> \"))\n",
    "y=int(input(\"Enter First Value> \"))\n",
    "print(x)\n",
    "print(y)\n",
    "sum =x+y\n",
    "print(\"Total Sum is:- \"+str(sum))    "
   ]
  },
  {
   "cell_type": "code",
   "execution_count": 15,
   "id": "797033c5",
   "metadata": {},
   "outputs": [
    {
     "data": {
      "text/plain": [
       "100"
      ]
     },
     "execution_count": 15,
     "metadata": {},
     "output_type": "execute_result"
    }
   ],
   "source": [
    "#Multiplication\n",
    "10*10"
   ]
  },
  {
   "cell_type": "code",
   "execution_count": 16,
   "id": "9472e9c6",
   "metadata": {},
   "outputs": [
    {
     "data": {
      "text/plain": [
       "10"
      ]
     },
     "execution_count": 16,
     "metadata": {},
     "output_type": "execute_result"
    }
   ],
   "source": [
    "# Divide \n",
    "100//10"
   ]
  },
  {
   "cell_type": "markdown",
   "id": "1b8d57d5",
   "metadata": {},
   "source": [
    "# Auther:\n",
    "pramod Dhayarkar"
   ]
  },
  {
   "cell_type": "markdown",
   "id": "3372ee55",
   "metadata": {},
   "source": []
  },
  {
   "cell_type": "code",
   "execution_count": null,
   "id": "6bbc67b1",
   "metadata": {},
   "outputs": [],
   "source": []
  }
 ],
 "metadata": {
  "kernelspec": {
   "display_name": "Python 3 (ipykernel)",
   "language": "python",
   "name": "python3"
  },
  "language_info": {
   "codemirror_mode": {
    "name": "ipython",
    "version": 3
   },
   "file_extension": ".py",
   "mimetype": "text/x-python",
   "name": "python",
   "nbconvert_exporter": "python",
   "pygments_lexer": "ipython3",
   "version": "3.10.2"
  }
 },
 "nbformat": 4,
 "nbformat_minor": 5
}
